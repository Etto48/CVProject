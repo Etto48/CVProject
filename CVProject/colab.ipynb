{
 "cells": [
  {
   "cell_type": "markdown",
   "metadata": {},
   "source": [
    "# Computer Vision and Language Models project\n",
    "\n",
    "Group: The Karate Kid\n",
    "\n",
    "- [Ettore Ricci](https://github.com/Etto48)\n",
    "- [Paolo Palumbo](https://github.com/paolpal)\n",
    "- [Zahra Omrani](https://github.com/zahra-omrani)\n",
    "- [Erni Delialisi](https://github.com/erni-de)\n",
    "\n",
    "## Introduction\n",
    "\n",
    "The goal of this project is to build a model that can generate a textual description of an image.\n",
    "We used the [COCO dataset](https://cocodataset.org/#home).\n",
    "Our model is a combination of a pre-trained ViT and a GPT-like model trained from scratch.\n",
    "\n",
    "The pre-trained ViT is [DINOv2](https://arxiv.org/abs/2304.07193)."
   ]
  }
 ],
 "metadata": {
  "language_info": {
   "name": "python"
  }
 },
 "nbformat": 4,
 "nbformat_minor": 2
}
